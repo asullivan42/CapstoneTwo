{
 "cells": [
  {
   "cell_type": "markdown",
   "id": "080916ab-ef4b-4fe2-b295-86fc06537aef",
   "metadata": {},
   "source": [
    "# Final notebook of the neighborhood pricing Kaggle contest"
   ]
  },
  {
   "cell_type": "code",
   "execution_count": 1,
   "id": "a7881945-4350-4d43-91fa-49d2abd02e77",
   "metadata": {},
   "outputs": [],
   "source": [
    "# Import my tools\n",
    "import numpy as np\n",
    "import pandas as pd\n",
    "import kaggle\n",
    "import seaborn as sns\n",
    "import matplotlib.pyplot as plt\n",
    "import os\n",
    "from sklearn.model_selection import train_test_split\n",
    "from sklearn.pipeline import Pipeline\n",
    "from sklearn.datasets import fetch_openml\n",
    "from sklearn.ensemble import RandomForestRegressor\n",
    "from sklearn.impute import SimpleImputer\n",
    "from sklearn.inspection import permutation_importance\n",
    "from sklearn.compose import ColumnTransformer\n",
    "from sklearn.preprocessing import OneHotEncoder\n",
    "\n",
    "import warnings\n",
    "warnings.filterwarnings('ignore')\n",
    "%matplotlib inline"
   ]
  },
  {
   "cell_type": "code",
   "execution_count": 17,
   "id": "2ec74a00-4b3a-495c-9353-23beb70af646",
   "metadata": {},
   "outputs": [],
   "source": [
    "df = pd.read_csv('clean.csv')\n",
    "df.drop('Unnamed: 0', axis=1, inplace=True)\n",
    "#df.fillna(0, inplace=True)\n",
    "df = df.convert_dtypes()"
   ]
  },
  {
   "cell_type": "code",
   "execution_count": 3,
   "id": "74774269-6e6b-4d22-affd-11ce090f6d86",
   "metadata": {},
   "outputs": [],
   "source": [
    "# a quick thing to only display the missing entries\n",
    "def Missing (train):\n",
    "    Missing={n:train[n].isna() for n in train.keys()}\n",
    "    Missing_data=pd.DataFrame(Missing).sum()\n",
    "    results=Missing_data[Missing_data>0]\n",
    "    return results"
   ]
  },
  {
   "cell_type": "code",
   "execution_count": 4,
   "id": "9fd9832f-8e0d-4493-b83f-ed9898b6a52a",
   "metadata": {},
   "outputs": [
    {
     "data": {
      "text/plain": [
       "LotFrontage      257\n",
       "Alley           1361\n",
       "BsmtQual          37\n",
       "BsmtCond          37\n",
       "BsmtExposure      38\n",
       "BsmtFinType1      37\n",
       "BsmtFinType2      38\n",
       "FireplaceQu      686\n",
       "GarageType        81\n",
       "GarageYrBlt       81\n",
       "GarageFinish      81\n",
       "GarageQual        81\n",
       "GarageCond        81\n",
       "PoolQC          1445\n",
       "Fence           1171\n",
       "MiscFeature     1399\n",
       "dtype: int64"
      ]
     },
     "execution_count": 4,
     "metadata": {},
     "output_type": "execute_result"
    }
   ],
   "source": [
    "Missing(df)"
   ]
  },
  {
   "cell_type": "code",
   "execution_count": null,
   "id": "341210cc-6a65-4046-b487-1f1221763178",
   "metadata": {},
   "outputs": [],
   "source": [
    "categorical_columns = df.select_dtypes(['string','object']).columns\n",
    "numerical_columns = df.select_dtypes(['Int64','float64']).columns\n",
    "\n",
    "X=df.drop('SalePrice',axis=1)\n",
    "y=df[['SalePrice']]\n",
    "\n",
    "X_train, X_test, y_train, y_test = train_test_split(X, y)\n",
    "\n",
    "categorical_encoder = OneHotEncoder(handle_unknown=\"ignore\")\n",
    "numerical_pipe = Pipeline([(\"imputer\", SimpleImputer(strategy=\"mean\"))])\n",
    "\n",
    "preprocessing = ColumnTransformer(\n",
    "    [\n",
    "        (\"cat\", categorical_encoder, categorical_columns),\n",
    "        (\"num\", numerical_pipe, numerical_columns),\n",
    "    ]\n",
    ")\n",
    "\n",
    "rf = Pipeline(\n",
    "    [\n",
    "        (\"preprocess\", preprocessing),\n",
    "        (\"classifier\", RandomForestRegressor(random_state=42)),\n",
    "    ]\n",
    ")\n",
    "rf.fit(X_train, y_train)"
   ]
  },
  {
   "cell_type": "code",
   "execution_count": null,
   "id": "f104c572-6cbb-473e-9e08-a008493d91fa",
   "metadata": {},
   "outputs": [],
   "source": [
    "ohe = rf.named_steps[\"preprocess\"].named_transformers_[\"cat\"]\n",
    "feature_names = ohe.get_feature_names_out(categorical_columns)\n",
    "feature_names = np.r_[feature_names, numerical_columns]\n",
    "\n",
    "tree_feature_importances = rf.named_steps[\"classifier\"].feature_importances_\n",
    "sorted_idx = tree_feature_importances.argsort()\n",
    "\n",
    "y_ticks = np.arange(0, len(feature_names))\n",
    "fig, ax = plt.subplots()\n",
    "ax.barh(y_ticks, tree_feature_importances[sorted_idx])\n",
    "ax.set_yticks(y_ticks)\n",
    "ax.set_yticklabels(feature_names[sorted_idx])\n",
    "ax.set_title(\"Random Forest Feature Importances (MDI)\")\n",
    "fig.tight_layout()\n",
    "plt.show()"
   ]
  },
  {
   "cell_type": "code",
   "execution_count": 108,
   "id": "e7b0f710-cb3f-47a4-a4a3-a52e4797591b",
   "metadata": {},
   "outputs": [
    {
     "data": {
      "text/plain": [
       "LotFrontage      257\n",
       "Alley           1361\n",
       "BsmtQual          37\n",
       "BsmtCond          37\n",
       "BsmtExposure      38\n",
       "                ... \n",
       "GarageQual        81\n",
       "GarageCond        81\n",
       "PoolQC          1445\n",
       "Fence           1171\n",
       "MiscFeature     1399\n",
       "Length: 16, dtype: int64"
      ]
     },
     "execution_count": 108,
     "metadata": {},
     "output_type": "execute_result"
    }
   ],
   "source": [
    "Missing(df)"
   ]
  },
  {
   "cell_type": "code",
   "execution_count": 5,
   "id": "794010d6-28af-4d69-94b1-bdbdb90dac79",
   "metadata": {},
   "outputs": [],
   "source": [
    "from sklearn.preprocessing import LabelEncoder\n",
    "le = LabelEncoder()\n",
    "df2 = df.apply(lambda col: le.fit_transform(col.astype(str)), axis=0, result_type='expand')\n"
   ]
  },
  {
   "cell_type": "code",
   "execution_count": 6,
   "id": "2ad79e93-7499-40cf-9551-457f126fba84",
   "metadata": {},
   "outputs": [
    {
     "data": {
      "text/plain": [
       "Series([], dtype: int64)"
      ]
     },
     "execution_count": 6,
     "metadata": {},
     "output_type": "execute_result"
    }
   ],
   "source": [
    "Missing(df2)"
   ]
  },
  {
   "cell_type": "code",
   "execution_count": 7,
   "id": "e690ef9f-cb0e-440f-89be-1bc07a6157e6",
   "metadata": {},
   "outputs": [
    {
     "name": "stdout",
     "output_type": "stream",
     "text": [
      "(1089, 81) (363, 81)\n",
      "(1089, 1) (363, 1)\n"
     ]
    }
   ],
   "source": [
    "X2=df2.drop('SalePrice',axis=1)\n",
    "y2=df2[['SalePrice']]\n",
    "\n",
    "X2_train, X2_test, y2_train, y2_test = train_test_split(X2, y2, test_size = 0.25, random_state=7) # random_state used for reproducibility\n",
    "print(X2_train.shape, X2_test.shape)\n",
    "print(y2_train.shape,y2_test.shape)"
   ]
  },
  {
   "cell_type": "code",
   "execution_count": 8,
   "id": "cb995c00-355d-4f3e-b7dd-913c2800b4ec",
   "metadata": {},
   "outputs": [
    {
     "name": "stdout",
     "output_type": "stream",
     "text": [
      "Score:  0.9370257481598844\n"
     ]
    },
    {
     "data": {
      "image/png": "[encoded data removed]",
      "text/plain": [
       "<Figure size 432x288 with 1 Axes>"
      ]
     },
     "metadata": {
      "needs_background": "light"
     },
     "output_type": "display_data"
    }
   ],
   "source": [
    "clf = RandomForestRegressor(n_estimators=300, n_jobs=-1)\n",
    "model_res = clf.fit(X2_train, y2_train)\n",
    "y_pred = model_res.predict(X2_test)\n",
    "score = model_res.score(X2_train,y2_train)\n",
    "plt.scatter(y2_test,y_pred)\n",
    "plt.xlabel('Sales Prices')\n",
    "plt.ylabel('Predicted Prices')\n",
    "print('Score: ',score)"
   ]
  },
  {
   "cell_type": "code",
   "execution_count": 9,
   "id": "8632fcaa-7701-4576-8e17-8427386abbbb",
   "metadata": {},
   "outputs": [
    {
     "data": {
      "image/png": "[encoded data removed]",
      "text/plain": [
       "<Figure size 432x288 with 1 Axes>"
      ]
     },
     "metadata": {
      "needs_background": "light"
     },
     "output_type": "display_data"
    }
   ],
   "source": [
    "rf_plot=sns.regplot(y2_test,y_pred,line_kws={\"color\": \"red\"}, order=2)\n",
    "rf_plot=plt.title('Random Forest Regression')\n",
    "rf_plot=plt.xlabel('Sales Price')\n",
    "rf_plot=plt.ylabel('Predicted Price')\n",
    "plt.show()"
   ]
  },
  {
   "cell_type": "code",
   "execution_count": 18,
   "id": "481c92f0-714a-4d22-aed6-3d7619d62ce1",
   "metadata": {},
   "outputs": [
    {
     "name": "stdout",
     "output_type": "stream",
     "text": [
      "Columns with NaN ['LotFrontage', 'Alley', 'BsmtQual', 'BsmtCond', 'BsmtExposure', 'BsmtFinType1', 'BsmtFinType2', 'FireplaceQu', 'GarageType', 'GarageYrBlt', 'GarageFinish', 'GarageQual', 'GarageCond', 'PoolQC', 'Fence', 'MiscFeature']\n",
      "Columns kept Index(['Id', 'MSSubClass', 'MSZoning', 'LotArea', 'Street', 'LotShape',\n",
      "       'LandContour', 'Utilities', 'LotConfig', 'LandSlope', 'Neighborhood',\n",
      "       'Condition1', 'Condition2', 'BldgType', 'HouseStyle', 'OverallQual',\n",
      "       'OverallCond', 'YearBuilt', 'YearRemodAdd', 'RoofStyle', 'RoofMatl',\n",
      "       'Exterior1st', 'Exterior2nd', 'MasVnrType', 'MasVnrArea', 'ExterQual',\n",
      "       'ExterCond', 'Foundation', 'BsmtFinSF1', 'BsmtFinSF2', 'BsmtUnfSF',\n",
      "       'TotalBsmtSF', 'Heating', 'HeatingQC', 'CentralAir', 'Electrical',\n",
      "       '1stFlrSF', '2ndFlrSF', 'LowQualFinSF', 'GrLivArea', 'BsmtFullBath',\n",
      "       'BsmtHalfBath', 'FullBath', 'HalfBath', 'BedroomAbvGr', 'KitchenAbvGr',\n",
      "       'KitchenQual', 'TotRmsAbvGrd', 'Functional', 'Fireplaces', 'GarageCars',\n",
      "       'GarageArea', 'PavedDrive', 'WoodDeckSF', 'OpenPorchSF',\n",
      "       'EnclosedPorch', '3SsnPorch', 'ScreenPorch', 'PoolArea', 'MiscVal',\n",
      "       'MoSold', 'YrSold', 'SaleType', 'SaleCondition', 'SalePrice',\n",
      "       'NeighborhoodPrice'],\n",
      "      dtype='object')\n"
     ]
    }
   ],
   "source": [
    "from sklearn.preprocessing import LabelEncoder\n",
    "le = LabelEncoder()\n",
    "df3=df.copy()\n",
    "# Dropping Columns with nan for the Dummy Variable list\n",
    "nan_values = df3.isna()\n",
    "nan_columns = nan_values.any()\n",
    "columns_with_nan = df3.columns[nan_columns].tolist()\n",
    "print('Columns with NaN',columns_with_nan)\n",
    "pd.set_option('display.max_rows', 10)\n",
    "df3=df3.drop(columns_with_nan, axis=1)\n",
    "print('Columns kept',df3.columns)\n",
    "\n",
    "cat_columns = df3.select_dtypes(['string']).columns\n",
    "for n in cat_columns:\n",
    "    le.fit(df3[n])\n",
    "    df3[n]=le.transform(df3[n])"
   ]
  },
  {
   "cell_type": "code",
   "execution_count": 19,
   "id": "18c32006-21f7-4ab5-b397-a43793b8b252",
   "metadata": {},
   "outputs": [
    {
     "name": "stdout",
     "output_type": "stream",
     "text": [
      "(1089, 65) (363, 65)\n",
      "(1089, 1) (363, 1)\n"
     ]
    }
   ],
   "source": [
    "X=df3.drop('SalePrice',axis=1)\n",
    "y=df3[['SalePrice']]\n",
    "\n",
    "X_train, X_test, y_train, y_test = train_test_split(X, y, test_size = 0.25, random_state=7) # random_state used for reproducibility\n",
    "print(X_train.shape, X_test.shape)\n",
    "print(y_train.shape,y_test.shape)"
   ]
  },
  {
   "cell_type": "code",
   "execution_count": 30,
   "id": "b3ee7e7f-a7ca-4393-9676-e27f4b5e831c",
   "metadata": {},
   "outputs": [
    {
     "name": "stdout",
     "output_type": "stream",
     "text": [
      "Score:  0.9828522161402601\n"
     ]
    },
    {
     "data": {
      "image/png": "[encoded data removed]",
      "text/plain": [
       "<Figure size 432x288 with 1 Axes>"
      ]
     },
     "metadata": {
      "needs_background": "light"
     },
     "output_type": "display_data"
    }
   ],
   "source": [
    "clf = RandomForestRegressor(n_estimators=300, n_jobs=-1)\n",
    "model_res = clf.fit(X_train, y_train)\n",
    "y_pred = model_res.predict(X_test)\n",
    "score = model_res.score(X_train,y_train)\n",
    "plt.scatter(y_test,y_pred)\n",
    "plt.title('Random Forest Regressor')\n",
    "plt.xlabel('Sales Prices')\n",
    "plt.ylabel('Predicted Prices')\n",
    "print('Score: ',score)"
   ]
  },
  {
   "cell_type": "code",
   "execution_count": 31,
   "id": "34751ed4-c8a8-4cb0-a4fe-2ec608646ec2",
   "metadata": {},
   "outputs": [
    {
     "data": {
      "text/plain": [
       "array([0.88129311, 0.83356839, 0.88756997, 0.84971262, 0.78497162])"
      ]
     },
     "execution_count": 31,
     "metadata": {},
     "output_type": "execute_result"
    }
   ],
   "source": [
    "from sklearn import svm\n",
    "from sklearn.model_selection import cross_val_score\n",
    "clf = RandomForestRegressor(n_estimators=300, n_jobs=-1)\n",
    "scores = cross_val_score(clf, X_test, y_test, cv=5)\n",
    "scores"
   ]
  },
  {
   "cell_type": "code",
   "execution_count": null,
   "id": "85ce7e9e-e3e2-4396-a8d7-d32cc5a27804",
   "metadata": {},
   "outputs": [],
   "source": []
  }
 ],
 "metadata": {
  "kernelspec": {
   "display_name": "Python 3 (ipykernel)",
   "language": "python",
   "name": "python3"
  },
  "language_info": {
   "codemirror_mode": {
    "name": "ipython",
    "version": 3
   },
   "file_extension": ".py",
   "mimetype": "text/x-python",
   "name": "python",
   "nbconvert_exporter": "python",
   "pygments_lexer": "ipython3",
   "version": "3.8.8"
  }
 },
 "nbformat": 4,
 "nbformat_minor": 5
}
